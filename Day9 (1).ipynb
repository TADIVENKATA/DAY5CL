{
  "nbformat": 4,
  "nbformat_minor": 0,
  "metadata": {
    "colab": {
      "private_outputs": true,
      "provenance": []
    },
    "kernelspec": {
      "name": "python3",
      "display_name": "Python 3"
    },
    "language_info": {
      "name": "python"
    }
  },
  "cells": [
    {
      "cell_type": "code",
      "execution_count": null,
      "metadata": {
        "id": "Z1wp0xdeJtDc"
      },
      "outputs": [],
      "source": [
        "help(filter)"
      ]
    },
    {
      "cell_type": "code",
      "source": [
        "list1=[1,2,3,4,5,6]\n",
        "def fun(a):\n",
        "    if a%2==0:\n",
        "        return True\n",
        "    else:\n",
        "        return False\n",
        "list2=tuple(filter(fun,list1))\n",
        "print(list2)"
      ],
      "metadata": {
        "id": "w-58qP84KAh-"
      },
      "execution_count": null,
      "outputs": []
    },
    {
      "cell_type": "code",
      "source": [
        "from functools import reduce#only use this function\n",
        "#from functools import *#all functions"
      ],
      "metadata": {
        "id": "ArlPUxC3LPTv"
      },
      "execution_count": null,
      "outputs": []
    },
    {
      "cell_type": "code",
      "source": [
        "list1"
      ],
      "metadata": {
        "id": "ekdLXHo7KzhH"
      },
      "execution_count": null,
      "outputs": []
    },
    {
      "cell_type": "code",
      "source": [
        "def fun1(x,y):\n",
        "    return x-y\n",
        "reduce(fun1, list1)"
      ],
      "metadata": {
        "id": "yF33dMoeLszm"
      },
      "execution_count": null,
      "outputs": []
    },
    {
      "cell_type": "code",
      "source": [
        "def fun1(x,y):\n",
        "    return x+y\n",
        "reduce(fun1, list1)"
      ],
      "metadata": {
        "id": "KnB9lWWeL5Er"
      },
      "execution_count": null,
      "outputs": []
    },
    {
      "cell_type": "code",
      "source": [
        "#sorted function it can be iterable(list, tuple, set) new data iterable\n",
        "#sort method it works only list, it will update"
      ],
      "metadata": {
        "id": "QJ6HkrX1MXUI"
      },
      "execution_count": null,
      "outputs": []
    },
    {
      "cell_type": "code",
      "source": [
        "l1=[2,1,4,2,7]"
      ],
      "metadata": {
        "id": "Rgm4ghDRNDtn"
      },
      "execution_count": null,
      "outputs": []
    },
    {
      "cell_type": "code",
      "source": [
        "l1.sort(reverse=True)"
      ],
      "metadata": {
        "id": "a96DB3SqNIB9"
      },
      "execution_count": null,
      "outputs": []
    },
    {
      "cell_type": "code",
      "source": [
        "l1"
      ],
      "metadata": {
        "id": "WQkHbJw2NJjv"
      },
      "execution_count": null,
      "outputs": []
    },
    {
      "cell_type": "code",
      "source": [
        "sorted(l1,reverse=True)"
      ],
      "metadata": {
        "id": "haoonhWKNKs5"
      },
      "execution_count": null,
      "outputs": []
    },
    {
      "cell_type": "code",
      "source": [
        "#isinstance\n",
        "type(\"ah\")"
      ],
      "metadata": {
        "id": "K-0nFlgyNWyP"
      },
      "execution_count": null,
      "outputs": []
    },
    {
      "cell_type": "code",
      "source": [
        "l1"
      ],
      "metadata": {
        "id": "TyPZQUGWNkYW"
      },
      "execution_count": null,
      "outputs": []
    },
    {
      "cell_type": "code",
      "source": [
        "d=10\n",
        "for i in l1:\n",
        "    kpi=i/d*100\n",
        "    print(kpi)"
      ],
      "metadata": {
        "id": "FykTK86sNnYZ"
      },
      "execution_count": null,
      "outputs": []
    },
    {
      "cell_type": "code",
      "source": [
        "l2=[7, 4, 2, 2, 1,\"6\"]\n"
      ],
      "metadata": {
        "id": "Ygd0kqRnN2dT"
      },
      "execution_count": null,
      "outputs": []
    },
    {
      "cell_type": "code",
      "source": [
        "d=10\n",
        "for i in l2:\n",
        "    kpi=i*d*100\n",
        "    print(kpi)"
      ],
      "metadata": {
        "id": "xdpNhWwJOMDz"
      },
      "execution_count": null,
      "outputs": []
    },
    {
      "cell_type": "code",
      "source": [
        "d=10\n",
        "for i in l2:\n",
        "    kpi=i/d*100\n",
        "    print(kpi)"
      ],
      "metadata": {
        "id": "dHnBdLNGOjDE"
      },
      "execution_count": null,
      "outputs": []
    },
    {
      "cell_type": "code",
      "source": [
        "d=10\n",
        "for i in l2:\n",
        "    try:\n",
        "        kpi=i/d*100\n",
        "        print(kpi)\n",
        "    except Exception as e:\n",
        "        print(e)"
      ],
      "metadata": {
        "id": "VPW15H9hO2Mk"
      },
      "execution_count": null,
      "outputs": []
    },
    {
      "cell_type": "code",
      "source": [
        "#eval only works string case\n",
        "print(type(isinstance))"
      ],
      "metadata": {
        "id": "l5uE9-1RPDYR"
      },
      "execution_count": null,
      "outputs": []
    },
    {
      "cell_type": "code",
      "source": [
        "?isinstance"
      ],
      "metadata": {
        "id": "U8MKVx5fPfUI"
      },
      "execution_count": null,
      "outputs": []
    },
    {
      "cell_type": "code",
      "source": [
        "l2"
      ],
      "metadata": {
        "id": "Ghm9adjhQvMB"
      },
      "execution_count": null,
      "outputs": []
    },
    {
      "cell_type": "code",
      "source": [
        "d=10\n",
        "for i in l2:\n",
        "    try:\n",
        "        if isinstance(i,str):\n",
        "            i=eval(i)\n",
        "        kpi=i/d*100\n",
        "        print(kpi)\n",
        "    except Exception as e:\n",
        "        print(e)"
      ],
      "metadata": {
        "id": "bSacwdZ4PntK"
      },
      "execution_count": null,
      "outputs": []
    },
    {
      "cell_type": "code",
      "source": [
        "d=10\n",
        "for i in l2:\n",
        "    #if isinstance(i,str):\n",
        "    i=eval(i)\n",
        "    kpi=i/d*100\n",
        "    print(kpi)"
      ],
      "metadata": {
        "id": "ZgJ4DSLhRTKe"
      },
      "execution_count": null,
      "outputs": []
    },
    {
      "cell_type": "code",
      "source": [
        "eval(2)"
      ],
      "metadata": {
        "id": "HDlNCgRvRWpM"
      },
      "execution_count": null,
      "outputs": []
    },
    {
      "cell_type": "code",
      "source": [
        "l2"
      ],
      "metadata": {
        "id": "f4OBZ_QBRvUt"
      },
      "execution_count": null,
      "outputs": []
    },
    {
      "cell_type": "code",
      "source": [
        "l3=str(l2)"
      ],
      "metadata": {
        "id": "IwYI-oJWRc8r"
      },
      "execution_count": null,
      "outputs": []
    },
    {
      "cell_type": "code",
      "source": [
        "l3"
      ],
      "metadata": {
        "id": "7hNKiTDQR2Hz"
      },
      "execution_count": null,
      "outputs": []
    },
    {
      "cell_type": "code",
      "source": [
        "#first.py\n",
        "def fun():\n",
        "    print(\"hi\")\n",
        "import first\n",
        "#second.py\n",
        "def fun():\n",
        "    print(\"hi\")\n",
        "import second\n",
        "first.fun()\n",
        "second.fun()"
      ],
      "metadata": {
        "id": "Pjri6EINR3XF"
      },
      "execution_count": null,
      "outputs": []
    },
    {
      "cell_type": "code",
      "source": [
        "#local scope\n",
        "def f():\n",
        "    a=10#local variable\n",
        "f()"
      ],
      "metadata": {
        "id": "dNsyGxGOUA85"
      },
      "execution_count": null,
      "outputs": []
    },
    {
      "cell_type": "code",
      "source": [
        "#global scope\n",
        "a=10#global varibale\n",
        "def f():\n",
        "    a=5#local variable\n",
        "f()\n",
        "a=20\n",
        "print(a)"
      ],
      "metadata": {
        "id": "a6mPmNh3UWQs"
      },
      "execution_count": null,
      "outputs": []
    },
    {
      "cell_type": "markdown",
      "source": [
        "#nested function"
      ],
      "metadata": {
        "id": "UPRNAthKVQfX"
      }
    },
    {
      "cell_type": "code",
      "source": [
        "#enclosed scope\n",
        "a=20#global varible\n",
        "def f():\n",
        "    a=15#enclosed varible\n",
        "    def fun():\n",
        "        a=9#local varible\n",
        "    fun()\n",
        "f()"
      ],
      "metadata": {
        "id": "rxZnKhTyU9CX"
      },
      "execution_count": null,
      "outputs": []
    },
    {
      "cell_type": "code",
      "source": [
        "print(\"intitially\",dir())"
      ],
      "metadata": {
        "id": "_dk0k9CTUMF7"
      },
      "execution_count": null,
      "outputs": []
    },
    {
      "cell_type": "code",
      "source": [
        "n=10\n",
        "def f():\n",
        "    n=30\n",
        "    print(\"inside the function\",dir())\n",
        "f()\n",
        "print(\"outside the function\",dir())"
      ],
      "metadata": {
        "id": "iAp24BvNWjVx"
      },
      "execution_count": null,
      "outputs": []
    },
    {
      "cell_type": "code",
      "source": [
        "#local scope: is contains names defined inside the current function only.\n",
        "#global scope: it contains name defined along at the top level of the script or module.\n",
        "#enclosing scope: contains names defines inside any and all enclosed function.\n",
        "#built-inscope: contains names built in to the python language."
      ],
      "metadata": {
        "id": "Q3-GQ4CSXGAR"
      },
      "execution_count": null,
      "outputs": []
    },
    {
      "cell_type": "code",
      "source": [
        "def inner():\n",
        "    x=3#local scope of varaible\n",
        "    print(\"inner\",x)\n",
        "inner()\n",
        "#print(x)"
      ],
      "metadata": {
        "id": "6TuREGAfYbCL"
      },
      "execution_count": null,
      "outputs": []
    },
    {
      "cell_type": "code",
      "source": [
        "def inner():\n",
        "    x=3#local scope of varaible\n",
        "    print(\"inner\",x)\n",
        "inner()\n",
        "print(x)"
      ],
      "metadata": {
        "id": "W2H2BhPhXndi"
      },
      "execution_count": null,
      "outputs": []
    },
    {
      "cell_type": "code",
      "source": [
        "y=10#global variable\n",
        "def inner():\n",
        "    x=3#local scope of variable\n",
        "    print(\"inner\",x)\n",
        "    print(\"inside\",y)\n",
        "inner()\n",
        "print(\"outside\",y)"
      ],
      "metadata": {
        "id": "VtKk9XosY2eK"
      },
      "execution_count": null,
      "outputs": []
    },
    {
      "cell_type": "code",
      "source": [
        "y=10#global variable\n",
        "def inner():\n",
        "    y=5\n",
        "    x=3#local scope of variable\n",
        "    print(\"inner\",x)\n",
        "    print(\"inside\",y)\n",
        "inner()\n",
        "print(\"outside\",y)"
      ],
      "metadata": {
        "id": "_ekXnO_tZRl2"
      },
      "execution_count": null,
      "outputs": []
    },
    {
      "cell_type": "code",
      "source": [
        "y=10#global variable\n",
        "def inner():\n",
        "    y+=1\n",
        "    x=3#local scope of variable\n",
        "    print(\"inner\",x)\n",
        "    print(\"inside\",y)\n",
        "inner()\n",
        "print(\"outside\",y)"
      ],
      "metadata": {
        "id": "Ff6WhaUcZRtV"
      },
      "execution_count": null,
      "outputs": []
    },
    {
      "cell_type": "code",
      "source": [
        "y=10#global variable\n",
        "def inner():\n",
        "    global y\n",
        "    y+=1\n",
        "    x=3#local scope of variable\n",
        "    print(\"inner\",x)\n",
        "    print(\"inside\",y)\n",
        "print(\"before outside\",y)\n",
        "inner()"
      ],
      "metadata": {
        "id": "vf2bE1axaLev"
      },
      "execution_count": null,
      "outputs": []
    },
    {
      "cell_type": "code",
      "source": [
        "y=10#global variable\n",
        "def inner():\n",
        "    global y\n",
        "    y+=1\n",
        "    x=3#local scope of variable\n",
        "    print(\"inner\",x)\n",
        "    print(\"inside\",y)\n",
        "inner()\n",
        "print(\"after outside\",y)"
      ],
      "metadata": {
        "id": "KFcXLG6Va_4J"
      },
      "execution_count": null,
      "outputs": []
    },
    {
      "cell_type": "code",
      "source": [
        "y=10#global variable\n",
        "def outer():#outer function\n",
        "    a=20#enclosed variable\n",
        "    def inner():#nested function\n",
        "        x=3#local scope of variable\n",
        "        print(\"x\",x)\n",
        "        print(\"inside the function \",y)\n",
        "    inner()\n",
        "    print(\"a\",a)\n",
        "outer()\n",
        "print(\"after outside\",y)"
      ],
      "metadata": {
        "id": "0J1X1CmGbIpl"
      },
      "execution_count": null,
      "outputs": []
    },
    {
      "cell_type": "code",
      "source": [
        "y=10#global variable\n",
        "def outer():#outer function\n",
        "    z=20#enclosed variable\n",
        "    def inner():#nested function\n",
        "        x=3#local scope of variable\n",
        "        print(\"x\",x)\n",
        "        print(\"inside the function \",y)\n",
        "    inner()\n",
        "    print(\"z\",z)\n",
        "outer()\n",
        "print(\"z\",z)\n",
        "print(\"after outside\",y)"
      ],
      "metadata": {
        "id": "EFVQm2ppcSDX"
      },
      "execution_count": null,
      "outputs": []
    },
    {
      "cell_type": "markdown",
      "source": [
        "#bugg"
      ],
      "metadata": {
        "id": "XBb0yuY5ddhV"
      }
    },
    {
      "cell_type": "code",
      "source": [
        "a=\"10\"\n",
        "b=\"20\"\n"
      ],
      "metadata": {
        "id": "F2PZmklQc7PN"
      },
      "execution_count": null,
      "outputs": []
    },
    {
      "cell_type": "code",
      "source": [
        "a+b"
      ],
      "metadata": {
        "id": "liCQTD-sdE7d"
      },
      "execution_count": null,
      "outputs": []
    },
    {
      "cell_type": "markdown",
      "source": [
        "#debugg"
      ],
      "metadata": {
        "id": "B03Ryn0Fdg_l"
      }
    },
    {
      "cell_type": "code",
      "source": [
        "a=10\n",
        "b=20"
      ],
      "metadata": {
        "id": "nF7QhoQxdgTe"
      },
      "execution_count": null,
      "outputs": []
    },
    {
      "cell_type": "code",
      "source": [
        "y=10#global variable\n",
        "def outer():#outer function\n",
        "    z=20#enclosed variable\n",
        "    def inner():#nested function\n",
        "        x=3#local scope of variable\n",
        "        print(\"x\",x)\n",
        "        print(\"inside the function \",y)\n",
        "    inner()\n",
        "    print(\"z\",z)\n",
        "outer()\n",
        "print(\"after outside\",y)"
      ],
      "metadata": {
        "id": "q7dmyIsydaqG"
      },
      "execution_count": null,
      "outputs": []
    },
    {
      "cell_type": "code",
      "source": [
        "#local--------->enclosed ----------->global--------->builtin"
      ],
      "metadata": {
        "id": "KOMzhVJzdp4g"
      },
      "execution_count": null,
      "outputs": []
    },
    {
      "cell_type": "code",
      "source": [
        "a=\"10\"\n",
        "b=\"20\""
      ],
      "metadata": {
        "id": "Tgbc0eFmd7oo"
      },
      "execution_count": null,
      "outputs": []
    },
    {
      "cell_type": "code",
      "source": [
        "y=10#global variable\n",
        "def outer():#outer function\n",
        "    y=20#enclosed variable\n",
        "    def inner():#nested function\n",
        "        y=3#local scope of variable\n",
        "        print(\"inside the function \",y)\n",
        "    inner()\n",
        "outer()"
      ],
      "metadata": {
        "id": "8t8u5GEreBxm"
      },
      "execution_count": null,
      "outputs": []
    },
    {
      "cell_type": "code",
      "source": [
        "y=10#global variable\n",
        "def outer():#outer function\n",
        "    y=20#enclosed variable\n",
        "    def inner():#nested function\n",
        "        #y=3#local scope of variable\n",
        "        print(\"inside the function \",y)\n",
        "    inner()\n",
        "outer()"
      ],
      "metadata": {
        "id": "sprQvF81eTUz"
      },
      "execution_count": null,
      "outputs": []
    },
    {
      "cell_type": "code",
      "source": [
        "y=10#global variable\n",
        "def outer():#outer function\n",
        "    #y=20#enclosed variable\n",
        "    def inner():#nested function\n",
        "        #y=3#local scope of variable\n",
        "        print(\"inside the function \",y)\n",
        "    inner()\n",
        "outer()"
      ],
      "metadata": {
        "id": "tBalYDDteZch"
      },
      "execution_count": null,
      "outputs": []
    },
    {
      "cell_type": "code",
      "source": [
        "def outer():\n",
        "    x=3\n",
        "    def inner():\n",
        "        print(x)\n",
        "    inner()\n",
        "outer()"
      ],
      "metadata": {
        "id": "7c5764OsevIv"
      },
      "execution_count": null,
      "outputs": []
    },
    {
      "cell_type": "code",
      "source": [
        "def fun3():\n",
        "    print(\"hi\")\n",
        "print(fun3())"
      ],
      "metadata": {
        "id": "IF_ePfgLe6kH"
      },
      "execution_count": null,
      "outputs": []
    },
    {
      "cell_type": "code",
      "source": [
        "fun4=fun3"
      ],
      "metadata": {
        "id": "gvSMGibNfLuX"
      },
      "execution_count": null,
      "outputs": []
    },
    {
      "cell_type": "code",
      "source": [
        "print(fun4)"
      ],
      "metadata": {
        "id": "cbZu22_mfwbh"
      },
      "execution_count": null,
      "outputs": []
    },
    {
      "cell_type": "code",
      "source": [
        "#file handling\n",
        "#syntax:\n",
        "#open(filename,mode)\n",
        "\"r\" read\n",
        "\"w\" write\n",
        "\"a\" append"
      ],
      "metadata": {
        "id": "w7lPUxzrfynW"
      },
      "execution_count": null,
      "outputs": []
    },
    {
      "cell_type": "code",
      "source": [
        "import os"
      ],
      "metadata": {
        "id": "R6wCOhDol5x7"
      },
      "execution_count": null,
      "outputs": []
    },
    {
      "cell_type": "code",
      "source": [
        "dir(os)"
      ],
      "metadata": {
        "id": "B_ULVsyKl7WK"
      },
      "execution_count": null,
      "outputs": []
    },
    {
      "cell_type": "code",
      "source": [
        "os.getcwd()"
      ],
      "metadata": {
        "id": "RpkNkk62l9pF"
      },
      "execution_count": null,
      "outputs": []
    },
    {
      "cell_type": "code",
      "source": [
        "ls"
      ],
      "metadata": {
        "id": "xzbc6TN4mrAw"
      },
      "execution_count": null,
      "outputs": []
    },
    {
      "cell_type": "markdown",
      "source": [
        "#reading file"
      ],
      "metadata": {
        "id": "WVSiCdI9nS9M"
      }
    },
    {
      "cell_type": "code",
      "source": [
        "file=open(\"ganesh.txt\", 'r')\n",
        "print(file.read())\n",
        "file.close()"
      ],
      "metadata": {
        "id": "VwHKENUSmDPB"
      },
      "execution_count": null,
      "outputs": []
    },
    {
      "cell_type": "code",
      "source": [
        "#writing"
      ],
      "metadata": {
        "id": "Qw9JUCTbnVEX"
      },
      "execution_count": null,
      "outputs": []
    },
    {
      "cell_type": "code",
      "source": [
        "file=open(\"ganesh.txt\", 'w')\n",
        "print(file.write(\"welcome to python\"))\n",
        "file.close()"
      ],
      "metadata": {
        "id": "_dqeDM_hmWn6"
      },
      "execution_count": null,
      "outputs": []
    },
    {
      "cell_type": "code",
      "source": [
        "file=open(\"ganesh.txt\", 'r')\n",
        "print(file.read())\n",
        "file.close()"
      ],
      "metadata": {
        "id": "F_YTAdQQnh2I"
      },
      "execution_count": null,
      "outputs": []
    },
    {
      "cell_type": "code",
      "source": [
        "#appanding a file"
      ],
      "metadata": {
        "id": "FnqH1Dkqnnk4"
      },
      "execution_count": null,
      "outputs": []
    },
    {
      "cell_type": "code",
      "source": [
        "file=open(\"ganesh.txt\", 'a')\n",
        "print(file.write(\"hi ganesh\"))\n",
        "file.close()"
      ],
      "metadata": {
        "id": "IKqjWvJCnqCm"
      },
      "execution_count": null,
      "outputs": []
    },
    {
      "cell_type": "code",
      "source": [
        "file=open(\"ganesh.txt\", 'r')\n",
        "print(file.read())\n",
        "file.close()"
      ],
      "metadata": {
        "id": "NDRbKxoYnyuw"
      },
      "execution_count": null,
      "outputs": []
    },
    {
      "cell_type": "code",
      "source": [
        "#second method:\n",
        "with open(\"ganesh.txt\", 'r') as file:\n",
        "    data=file.read()\n",
        "print(data)"
      ],
      "metadata": {
        "id": "OnsMNl_-nxOt"
      },
      "execution_count": null,
      "outputs": []
    },
    {
      "cell_type": "code",
      "source": [
        "with open(\"ganesh.txt\", 'w') as file:\n",
        "    data=file.write(\"hello world\")\n",
        "print(data)"
      ],
      "metadata": {
        "id": "XDybO8l5oLzg"
      },
      "execution_count": null,
      "outputs": []
    },
    {
      "cell_type": "code",
      "source": [
        "with open(\"ganesh.txt\", 'r') as file:\n",
        "    data=file.read()\n",
        "print(data)"
      ],
      "metadata": {
        "id": "pTL8UFD3oFZC"
      },
      "execution_count": null,
      "outputs": []
    },
    {
      "cell_type": "code",
      "source": [
        "with open(\"ganesh.txt\", 'a') as file:\n",
        "    data=file.write(\"hai everybody\")\n",
        "print(data)"
      ],
      "metadata": {
        "id": "_kXXX_8ioYFm"
      },
      "execution_count": null,
      "outputs": []
    },
    {
      "cell_type": "code",
      "source": [
        "with open(\"ganesh.txt\", 'r') as file:\n",
        "    data=file.read()\n",
        "print(data)"
      ],
      "metadata": {
        "id": "EvFHvjK-o96W"
      },
      "execution_count": null,
      "outputs": []
    },
    {
      "cell_type": "code",
      "source": [
        "with open(\"ganesh.txt\", 'r') as file:\n",
        "    data=file.readlines()\n",
        "    for i in data:\n",
        "        i.split(\" \")\n",
        "print(data)"
      ],
      "metadata": {
        "id": "tXhzXp9Wo_6-"
      },
      "execution_count": null,
      "outputs": []
    },
    {
      "cell_type": "code",
      "source": [],
      "metadata": {
        "id": "Pbt6CHElpMkc"
      },
      "execution_count": null,
      "outputs": []
    }
  ]
}